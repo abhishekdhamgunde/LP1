{
  "cells": [
    {
      "cell_type": "code",
      "execution_count": null,
      "metadata": {
        "id": "4J93vItBU3KA"
      },
      "outputs": [],
      "source": [
        "!apt-get --purge remove cuda nvidia* libnvidia-*\n",
        "!dpkg -l | grep cuda- | awk '{print $2}' | xargs -n1 dpkg --purge\n",
        "!apt-get remove cuda-*\n",
        "!apt autoremove\n",
        "!apt-get update"
      ]
    },
    {
      "cell_type": "code",
      "execution_count": null,
      "metadata": {
        "id": "94OacqU9U83K"
      },
      "outputs": [],
      "source": [
        "!wget https://developer.nvidia.com/compute/cuda/9.2/Prod/local_installers/cuda-repo-ubuntu1604-9-2-local_9.2.88-1_amd64 -O cuda-repo-ubuntu1604-9-2-local_9.2.88-1_amd64.deb\n",
        "!dpkg -i cuda-repo-ubuntu1604-9-2-local_9.2.88-1_amd64.deb\n",
        "!apt-key add /var/cuda-repo-9-2-local/7fa2af80.pub\n",
        "!apt-get update\n",
        "!apt-get install cuda-9.2"
      ]
    },
    {
      "cell_type": "code",
      "execution_count": 3,
      "metadata": {
        "colab": {
          "base_uri": "https://localhost:8080/"
        },
        "id": "cHsyP7P2U_bp",
        "outputId": "44fce438-9e83-4b81-df24-e0b5d62e230b"
      },
      "outputs": [
        {
          "output_type": "stream",
          "name": "stdout",
          "text": [
            "nvcc: NVIDIA (R) Cuda compiler driver\n",
            "Copyright (c) 2005-2018 NVIDIA Corporation\n",
            "Built on Wed_Apr_11_23:16:29_CDT_2018\n",
            "Cuda compilation tools, release 9.2, V9.2.88\n"
          ]
        }
      ],
      "source": [
        "!nvcc --version"
      ]
    },
    {
      "cell_type": "code",
      "execution_count": 4,
      "metadata": {
        "colab": {
          "base_uri": "https://localhost:8080/"
        },
        "id": "YyFm3n8GVAC5",
        "outputId": "d62dd800-3c16-4db1-893a-bfce982c95a8"
      },
      "outputs": [
        {
          "output_type": "stream",
          "name": "stdout",
          "text": [
            "Collecting git+git://github.com/andreinechaev/nvcc4jupyter.git\n",
            "  Cloning git://github.com/andreinechaev/nvcc4jupyter.git to /tmp/pip-req-build-0kja2flg\n",
            "  Running command git clone -q git://github.com/andreinechaev/nvcc4jupyter.git /tmp/pip-req-build-0kja2flg\n",
            "Building wheels for collected packages: NVCCPlugin\n",
            "  Building wheel for NVCCPlugin (setup.py) ... \u001b[?25l\u001b[?25hdone\n",
            "  Created wheel for NVCCPlugin: filename=NVCCPlugin-0.0.2-py3-none-any.whl size=4305 sha256=5fad7b874b262add925388e4f9e0fd4c0fceee3126a17c86109d9df2b7a9fca8\n",
            "  Stored in directory: /tmp/pip-ephem-wheel-cache-xhgq_zm9/wheels/c5/2b/c0/87008e795a14bbcdfc7c846a00d06981916331eb980b6c8bdf\n",
            "Successfully built NVCCPlugin\n",
            "Installing collected packages: NVCCPlugin\n",
            "Successfully installed NVCCPlugin-0.0.2\n"
          ]
        }
      ],
      "source": [
        "!pip install git+git://github.com/andreinechaev/nvcc4jupyter.git"
      ]
    },
    {
      "cell_type": "code",
      "execution_count": 5,
      "metadata": {
        "colab": {
          "base_uri": "https://localhost:8080/"
        },
        "id": "OQLvPwyyVCK6",
        "outputId": "b23da7ce-ef74-4d23-9926-7802789f97ce"
      },
      "outputs": [
        {
          "output_type": "stream",
          "name": "stdout",
          "text": [
            "created output directory at /content/src\n",
            "Out bin /content/result.out\n"
          ]
        }
      ],
      "source": [
        "%load_ext nvcc_plugin"
      ]
    },
    {
      "cell_type": "markdown",
      "metadata": {
        "id": "GB9CgF80VX7g"
      },
      "source": [
        "ADDING TWO LARGE VECTORS"
      ]
    },
    {
      "cell_type": "code",
      "execution_count": 6,
      "metadata": {
        "colab": {
          "base_uri": "https://localhost:8080/"
        },
        "id": "oglSkKiuVE2Q",
        "outputId": "776c63f7-fbc7-4238-8abc-c754aebd95a9"
      },
      "outputs": [
        {
          "output_type": "stream",
          "name": "stdout",
          "text": [
            "HereVector a : \n",
            "83 86 77 15 93 35 86 92 49 21 62 27 90 59 63 26 40 26 72 36 11 68 67 29 82 30 62 23 67 35 29 2 22 58 69 67 93 56 11 42 29 73 21 19 84 37 98 24 15 70 13 26 91 80 56 73 62 70 96 81 5 25 84 27 36 5 46 29 13 57 24 95 82 45 14 67 34 64 43 50 87 8 76 78 88 84 3 51 54 99 32 60 76 68 39 12 26 86 94 39 \n",
            "\n",
            "Vector b : \n",
            "95 70 34 78 67 1 97 2 17 92 52 56 1 80 86 41 65 89 44 19 40 29 31 17 97 71 81 75 9 27 67 56 97 53 86 65 6 83 19 24 28 71 32 29 3 19 70 68 8 15 40 49 96 23 18 45 46 51 21 55 79 88 64 28 41 50 93 0 34 64 24 14 87 56 43 91 27 65 59 36 32 51 37 28 75 7 74 21 58 95 29 37 35 93 18 28 43 11 28 29 \n",
            "\n",
            "result : \n",
            "178 156 111 93 160 36 183 94 66 113 114 83 91 139 149 67 105 115 116 55 51 97 98 46 179 101 143 98 76 62 96 58 119 111 155 132 99 139 30 66 57 144 53 48 87 56 168 92 23 85 53 75 187 103 74 118 108 121 117 136 84 113 148 55 77 55 139 29 47 121 48 109 169 101 57 158 61 129 102 86 119 59 113 106 163 91 77 72 112 194 61 97 111 161 57 40 69 97 122 68 Program completed successfully!\n",
            "Time Elapsed : 0\n"
          ]
        }
      ],
      "source": [
        "%%cu\n",
        "#include <iostream>\n",
        "#include <fstream>\n",
        "#include <cstdlib>\n",
        "#include <cassert>\n",
        "using namespace std;\n",
        "__global__ void vectorAdd(int *a, int *b, int *result, int N)\n",
        "{\n",
        "    int tid = blockIdx.x * blockDim.x + threadIdx.x;\n",
        "    if (tid < N)\n",
        "        result[tid] = a[tid] + b[tid];\n",
        "}\n",
        "void init_array(int *a, int N)\n",
        "{\n",
        "    for (int i = 0; i < N; i++)\n",
        "    {\n",
        "        a[i] = rand() % 100;\n",
        "    }\n",
        "}\n",
        "\n",
        "void verify_solution(int *a, int *b, int *result, int N)\n",
        "{\n",
        "    for (int i = 0; i < N; i++)\n",
        "    {\n",
        "        assert(a[i] + b[i] == result[i]);\n",
        "    }\n",
        "}\n",
        "int main()\n",
        "{\n",
        "    cout << \"Here\";\n",
        "  //  int N = 1 << 20;\n",
        "    int N = 100;\n",
        "    size_t bytes = N * sizeof(int);\n",
        "    int *a, *b, *result;\n",
        "    cudaMallocManaged(&a, bytes);\n",
        "    cudaMallocManaged(&b, bytes);\n",
        "    cudaMallocManaged(&result, bytes);\n",
        "    init_array(a, N);\n",
        "    init_array(b, N);\n",
        "    cout << \"Vector a : \\n\";\n",
        "    for (int i = 0; i < N; i++)\n",
        "    {\n",
        "        cout << a[i] << \" \";\n",
        "    }\n",
        "    cout << \"\\n\\nVector b : \\n\";\n",
        "    for (int i = 0; i < N; i++)\n",
        "    {\n",
        "        cout << b[i] << \" \";\n",
        "    }\n",
        "     cudaEvent_t start, end;\n",
        "     cudaEventCreate(&start);\n",
        "     cudaEventCreate(&end);\n",
        "    int threads = 256;\n",
        "    int blocks = (N + threads - 1) / threads;\n",
        "    vectorAdd<<<blocks, threads>>>(a, b, result, N);\n",
        "      cudaEventRecord(end);\n",
        "     cudaEventSynchronize(end);\n",
        "    float time = 0.0;\n",
        "     cudaEventElapsedTime(&time, start, end);\n",
        "     cudaDeviceSynchronize();\n",
        "    cout << \"\\n\\nresult : \\n\";\n",
        "    for (int i = 0; i < N; i++)\n",
        "    {\n",
        "        cout << result[i] << \" \";\n",
        "    }\n",
        "    verify_solution(a, b, result, N);\n",
        "    cout << \"Program completed successfully!\" << endl;\n",
        "    cout << \"Time Elapsed : \" << time;\n",
        "    return 0;\n",
        "}\n",
        "\n"
      ]
    },
    {
      "cell_type": "markdown",
      "metadata": {
        "id": "UUJUJo2LWm33"
      },
      "source": [
        "Multiply Vector and Matrix"
      ]
    },
    {
      "cell_type": "code",
      "execution_count": 7,
      "metadata": {
        "colab": {
          "base_uri": "https://localhost:8080/"
        },
        "id": "velmHeJdWnp2",
        "outputId": "c5201029-0c25-4b4b-bc28-d17d67154794"
      },
      "outputs": [
        {
          "output_type": "stream",
          "name": "stdout",
          "text": [
            "Initial vector : \n",
            " 2 2 1\n",
            "Initial matrix : \n",
            " 2 3 2 2\n",
            " 1 1 2 3\n",
            " 2 3 2 3\n",
            "\n",
            "Results : \n",
            " 8 11 10 13\n",
            "\n"
          ]
        }
      ],
      "source": [
        "%%cu\n",
        "#include <iostream>\n",
        "using namespace std;\n",
        "__global__ void matrixVector(int *vec, int *mat, int *result, int n, int m)\n",
        "{\n",
        "    int tid = blockIdx.x * blockDim.x + threadIdx.x;\n",
        "    int sum = 0;\n",
        "    if (tid <= n)\n",
        "    {\n",
        "        for (int i = 0; i < n; i++)\n",
        "        {\n",
        "            sum += vec[i] * mat[(i * m) + tid];\n",
        "        }\n",
        "        result[tid] = sum;\n",
        "    }\n",
        "}\n",
        "void init_array(int *a, int n)\n",
        "{\n",
        "    for (int i = 0; i < n; i++)\n",
        "        a[i] = rand() % n + 1;\n",
        "}\n",
        "void init_matrix(int *a, int n, int m)\n",
        "{\n",
        "    for (int i = 0; i < n; i++)\n",
        "    {\n",
        "        for (int j = 0; j < m; j++)\n",
        "        {\n",
        "            a[i * m + j] = rand() % n + 1;\n",
        "        }\n",
        "    }\n",
        "}\n",
        "void print_array(int *a, int n)\n",
        "{\n",
        "    for (int i = 0; i < n; i++)\n",
        "    {\n",
        "        cout << \" \" << a[i];\n",
        "    }\n",
        "    cout << endl;\n",
        "}\n",
        "void print_matrix(int *a, int n, int m)\n",
        "{\n",
        "    for (int i = 0; i < n; i++)\n",
        "    {\n",
        "        for (int j = 0; j < m; j++)\n",
        "            cout << \" \" << a[i * m + j];\n",
        "        cout << endl;\n",
        "    }\n",
        "}\n",
        "int main()\n",
        "{\n",
        "    int *a, *b, *c;\n",
        "    int *a_dev, *b_dev, *c_dev;\n",
        "    int n = 3;\n",
        "    int m = 4;\n",
        "    a = new int[n];\n",
        "    b = new int[n * m];\n",
        "    c = new int[m];\n",
        "    init_array(a, n);\n",
        "    init_matrix(b, n, m);\n",
        "    cout << \"Initial vector : \" << endl;\n",
        "    print_array(a, n);\n",
        "    cout << \"Initial matrix : \" << endl;\n",
        "    print_matrix(b, n, m);\n",
        "    cout << endl;\n",
        "    cudaMalloc(&a_dev, sizeof(int) * n);\n",
        "    cudaMalloc(&b_dev, sizeof(int) * n * m);\n",
        "    cudaMalloc(&c_dev, sizeof(int) * m);\n",
        "    cudaMemcpy(a_dev, a, sizeof(int) * n, cudaMemcpyHostToDevice);\n",
        "    cudaMemcpy(b_dev, b, sizeof(int) * n * m, cudaMemcpyHostToDevice);\n",
        "    matrixVector<<<m / 256 + 1, 256>>>(a_dev, b_dev, c_dev, n, m);\n",
        "    cudaMemcpy(c, c_dev, sizeof(int) * m, cudaMemcpyDeviceToHost);\n",
        "    cout << \"Results : \" << endl;\n",
        "    print_array(c, m);\n",
        "    cudaFree(a_dev);\n",
        "    cudaFree(b_dev);\n",
        "    cudaFree(c_dev);\n",
        "    delete[] a;\n",
        "    delete[] b;\n",
        "    delete[] c;\n",
        "    return 0;\n",
        "}\n"
      ]
    },
    {
      "cell_type": "markdown",
      "source": [
        "Multiply two N × N arrays using n2\n",
        "processors"
      ],
      "metadata": {
        "id": "bVhlrId6oQTf"
      }
    },
    {
      "cell_type": "code",
      "source": [
        "%%cu\n",
        "#include<iostream>\n",
        "#include<cstdlib>\n",
        "#include<cmath>\n",
        "using namespace std;\n",
        "\n",
        "//Matrix multiplication Cuda \n",
        "__global__ void matrixMultiplication(int *a, int *b, int *c, int n)\n",
        "{\n",
        "    int row=threadIdx.y+blockDim.y*blockIdx.y;\n",
        "    int col=threadIdx.x+blockDim.x*blockIdx.x;\n",
        "    int sum=0;\n",
        "   \n",
        "    if(row<n && col<n)\n",
        "    for(int j=0;j<n;j++)\n",
        "    {\n",
        "        sum=sum+a[row*n+j]*b[j*n+col];\n",
        "    }\n",
        "    \n",
        "    c[n*row+col]=sum;\n",
        "}\n",
        "int main()\n",
        "{\n",
        "    int *a,*b,*c;\n",
        "    int *a_dev,*b_dev,*c_dev;\n",
        "    int n=3;\n",
        "    \n",
        "    a=new int[n*n];\n",
        "    b=new int[n*n];\n",
        "    c=new int[n*n];\n",
        "    int *d=new int[n*n];\n",
        "    int size=n*n*sizeof(int);\n",
        "    cudaMalloc(&a_dev,size);\n",
        "    cudaMalloc(&b_dev,size);\n",
        "    cudaMalloc(&c_dev,size);\n",
        "    \n",
        "    //Array initialization\n",
        "    for(int i=0;i<n*n;i++)\n",
        "    {\n",
        "          a[i]=rand()%n;\n",
        "        b[i]=rand()%n;\n",
        "       // d[i]=a[i]+b[i];\n",
        "    }\n",
        "    \n",
        "    // printing a \n",
        "    cout << \"a : \\n\";\n",
        "    for(int i=0; i<n; i++)\n",
        "    {\n",
        "      for(int j=0;j<n;j++)\n",
        "          cout << a[i*n + j] << \" \";\n",
        "          cout << endl;\n",
        "    }\n",
        "    \n",
        "    // printing b \n",
        "    cout << \"b : \\n\";\n",
        "    for(int i=0; i<n; i++)\n",
        "    {\n",
        "      for(int j=0;j<n;j++)\n",
        "          cout << b[i*n + j] << \" \";\n",
        "          cout << endl;\n",
        "    }\n",
        "\n",
        "    cudaEvent_t start,end;\n",
        "    \n",
        "    cudaEventCreate(&start);\n",
        "    cudaEventCreate(&end);\n",
        "    \n",
        "    cudaMemcpy(a_dev,a,size,cudaMemcpyHostToDevice);\n",
        "    cudaMemcpy(b_dev,b,size,cudaMemcpyHostToDevice);\n",
        "    \n",
        "    \n",
        "    dim3 threadsPerBlock(n, n);\n",
        "    dim3 blocksPerGrid(1, 1);\n",
        "    \n",
        "    if(n*n>512){\n",
        "        threadsPerBlock.x=512;\n",
        "        threadsPerBlock.y=512;\n",
        "        blocksPerGrid.x=ceil((double)n/(double)threadsPerBlock.x);\n",
        "        blocksPerGrid.y=ceil((double)n/(double)threadsPerBlock.y);\n",
        "    }\n",
        "    //GPU Multiplication\n",
        "    cudaEventRecord(start);\n",
        "    matrixMultiplication<<<blocksPerGrid,threadsPerBlock>>>(a_dev,b_dev,c_dev,n);\n",
        "    \n",
        "    cudaEventRecord(end);\n",
        "    cudaEventSynchronize(end);\n",
        "    \n",
        "    float time=0.0;\n",
        "    cudaEventElapsedTime(&time,start,end);\n",
        "    \n",
        "    cudaMemcpy(c,c_dev,size,cudaMemcpyDeviceToHost);\n",
        "    \n",
        "    \n",
        "    //CPU matrix multiplication\n",
        "    int sum=0;\n",
        "    for(int row=0;row<n;row++)\n",
        "    {\n",
        "        for(int col=0;col<n;col++)\n",
        "        {\n",
        "           sum=0;\n",
        "           for(int k=0;k<n;k++)\n",
        "              sum=sum+a[row*n+k]*b[k*n+col];  \n",
        "            d[row*n+col]=sum;\n",
        "        }\n",
        "      \n",
        "    }\n",
        "    int error=0;\n",
        "    for(int i=0;i<n*n;i++){\n",
        "        error+=d[i]-c[i];\n",
        "        // cout<<\" gpu \"<<c[i]<<\" CPU \"<<d[i]<<endl;\n",
        "    }\n",
        "    \n",
        "    // printing c \n",
        "    cout << \"c : \\n\";\n",
        "    for(int i=0; i<n; i++)\n",
        "    {\n",
        "      for(int j=0;j<n;j++)\n",
        "          cout << c[i*n + j] << \" \";\n",
        "          cout << endl;\n",
        "    }\n",
        " \n",
        "    cout<<\"Error : \"<<error;\n",
        "    cout<<\"\\nTime Elapsed:  \"<<time;\n",
        "    \n",
        "    return 0;\n",
        "}"
      ],
      "metadata": {
        "colab": {
          "base_uri": "https://localhost:8080/"
        },
        "id": "SVErvDt8JhfH",
        "outputId": "e77f1905-db44-49dc-e99c-816080bddcb9"
      },
      "execution_count": 8,
      "outputs": [
        {
          "output_type": "stream",
          "name": "stdout",
          "text": [
            "a : \n",
            "1 0 2 \n",
            "1 0 2 \n",
            "2 2 0 \n",
            "b : \n",
            "1 1 1 \n",
            "0 1 1 \n",
            "1 1 0 \n",
            "c : \n",
            "3 3 1 \n",
            "3 3 1 \n",
            "2 4 4 \n",
            "Error : 0\n",
            "Time Elapsed:  0.113856\n"
          ]
        }
      ]
    }
  ],
  "metadata": {
    "colab": {
      "collapsed_sections": [],
      "name": "3_HPC_2.ipynb",
      "provenance": []
    },
    "kernelspec": {
      "display_name": "Python 3",
      "name": "python3"
    },
    "language_info": {
      "name": "python"
    },
    "accelerator": "GPU"
  },
  "nbformat": 4,
  "nbformat_minor": 0
}