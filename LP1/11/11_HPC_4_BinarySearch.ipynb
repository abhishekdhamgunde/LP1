{
  "nbformat": 4,
  "nbformat_minor": 0,
  "metadata": {
    "colab": {
      "name": "11_HPC_4_BinarySearch.ipynb",
      "provenance": []
    },
    "kernelspec": {
      "name": "python3",
      "display_name": "Python 3"
    },
    "accelerator": "GPU"
  },
  "cells": [
    {
      "cell_type": "code",
      "metadata": {
        "id": "QuqFihUV0skK"
      },
      "source": [
        "code = \"\"\"\n",
        "#include <mpi.h>\n",
        "#include <stdio.h>\n",
        "\n",
        "#define n 12\n",
        "\n",
        "#define key 55\n",
        "\n",
        "int a[] = {1, 2, 3, 4, 7, 9, 13, 24, 55, 56, 67, 88};\n",
        "\n",
        "int a2[20];\n",
        "\n",
        "int binarySearch(int *array, int start, int end, int value)\n",
        "{\n",
        "    int mid;\n",
        "\n",
        "    while (start <= end)\n",
        "    {\n",
        "        mid = (start + end) / 2;\n",
        "        if (array[mid] == value)\n",
        "            return mid;\n",
        "        else if (array[mid] > value)\n",
        "            end = mid - 1;\n",
        "        else\n",
        "            start = mid + 1;\n",
        "    }\n",
        "    return -1;\n",
        "}\n",
        "\n",
        "int main(int argc, char *argv[])\n",
        "{\n",
        "    int pid, np, elements_per_process, n_elements_received;\n",
        "\n",
        "    MPI_Status status;\n",
        "\n",
        "    MPI_Init(&argc, &argv);\n",
        "\n",
        "    MPI_Comm_rank(MPI_COMM_WORLD, &pid);\n",
        "    MPI_Comm_size(MPI_COMM_WORLD, &np);\n",
        "\n",
        "    if (pid == 0)\n",
        "    {\n",
        "        int index, i;\n",
        "\n",
        "        if (np > 1)\n",
        "        {\n",
        "            for (i = 1; i < np - 1; i++)\n",
        "            {\n",
        "\n",
        "                index = i * elements_per_process;\n",
        "                //element count\n",
        "                MPI_Send(&elements_per_process, 1, MPI_INT, i, 0, MPI_COMM_WORLD);\n",
        "\n",
        "                MPI_Send(&a[index], elements_per_process, MPI_INT, i, 0, MPI_COMM_WORLD);\n",
        "            }\n",
        "\n",
        "            index = i * elements_per_process;\n",
        "\n",
        "            int elements_left = n - index;\n",
        "\n",
        "            MPI_Send(&elements_left, 1, MPI_INT, i, 0, MPI_COMM_WORLD);\n",
        "            MPI_Send(&a[index], elements_left, MPI_INT, i, 0, MPI_COMM_WORLD);\n",
        "        }\n",
        "\n",
        "        int position = binarySearch(a, 0, elements_per_process - 1, key);\n",
        "\n",
        "        if (position != -1)\n",
        "            printf(\"Found at: %d\", position);\n",
        "\n",
        "        int temp;\n",
        "\n",
        "        for (i = 1; i < np; i++)\n",
        "        {\n",
        "            MPI_Recv(&temp, 1, MPI_INT, MPI_ANY_SOURCE, 0, MPI_COMM_WORLD, &status);\n",
        "            int sender = status.MPI_SOURCE;\n",
        "\n",
        "            if (temp != -1)\n",
        "                printf(\"Found at: %d by %d\", (sender * elements_per_process) + temp, sender);\n",
        "        }\n",
        "    }\n",
        "\n",
        "    else\n",
        "    {\n",
        "        MPI_Recv(&n_elements_received, 1, MPI_INT, 0, 0, MPI_COMM_WORLD, &status);\n",
        "\n",
        "        MPI_Recv(&a2, n_elements_received, MPI_INT, 0, 0, MPI_COMM_WORLD, &status);\n",
        "\n",
        "        int position = binarySearch(a2, 0, n_elements_received - 1, key);\n",
        "\n",
        "        MPI_Send(&position, 1, MPI_INT, 0, 0, MPI_COMM_WORLD);\n",
        "    }\n",
        "\n",
        "    MPI_Finalize();\n",
        "\n",
        "    return 0;\n",
        "}\n",
        "\"\"\""
      ],
      "execution_count": 5,
      "outputs": []
    },
    {
      "cell_type": "code",
      "metadata": {
        "id": "HS-L8Btn0-fG"
      },
      "source": [
        "file_ = open(\"BinarySearch.c\", \"w\");\n",
        "file_.write(code);\n",
        "file_.close();"
      ],
      "execution_count": 6,
      "outputs": []
    },
    {
      "cell_type": "code",
      "metadata": {
        "id": "0S1HzL5t1AMr"
      },
      "source": [
        "!mpiCC BinarySearch.c\n"
      ],
      "execution_count": 7,
      "outputs": []
    },
    {
      "cell_type": "code",
      "metadata": {
        "id": "SW7UXfJY1AgE",
        "colab": {
          "base_uri": "https://localhost:8080/"
        },
        "outputId": "49206e8a-195c-48d6-c106-e0117b357cc6"
      },
      "source": [
        "!mpirun --allow-run-as-root -np 4 ./a.out\n"
      ],
      "execution_count": 8,
      "outputs": [
        {
          "output_type": "stream",
          "name": "stdout",
          "text": [
            "Found at: 8 by 3"
          ]
        }
      ]
    },
    {
      "cell_type": "code",
      "metadata": {
        "id": "npBZp3Uy1Cdi"
      },
      "source": [
        ""
      ],
      "execution_count": 8,
      "outputs": []
    }
  ]
}