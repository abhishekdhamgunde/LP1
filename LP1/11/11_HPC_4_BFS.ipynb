{
  "cells": [
    {
      "cell_type": "code",
      "execution_count": 1,
      "metadata": {
        "id": "PWQkrbHg_5A3"
      },
      "outputs": [],
      "source": [
        "code = \"\"\"\n",
        "#include <iostream>\n",
        "#include <omp.h>\n",
        "\n",
        "using namespace std;\n",
        "int q[100];\n",
        "int visited[7];\n",
        "int local_q;\n",
        "\n",
        "void bfs(int adj_matrix[7][7], int first, int last, int q[], int n_nodes)\n",
        "{\n",
        "    if (first == last)\n",
        "        return;\n",
        "\n",
        "    int cur_node = q[first++];\n",
        "    cout << \"  \" << cur_node;\n",
        "\n",
        "    omp_set_num_threads(3);\n",
        "\n",
        "#pragma omp parallel for shared(visited)\n",
        "    for (int i = 0; i < n_nodes; i++)\n",
        "    {\n",
        "        if (adj_matrix[cur_node][i] == 1 && visited[i] == 0)\n",
        "        {\n",
        "            q[last++] = i;\n",
        "            visited[i] = 1;\n",
        "        }\n",
        "    }\n",
        "\n",
        "    bfs(adj_matrix, first, last, q, n_nodes);\n",
        "}\n",
        "\n",
        "int main()\n",
        "{\n",
        "    int first = -1;\n",
        "    int last = 0;\n",
        "    int n_nodes = 7;\n",
        "\n",
        "    for (int i = 0; i < n_nodes; i++)\n",
        "    {\n",
        "        visited[i] = 0;\n",
        "    }\n",
        "\n",
        "    int adj_matrix[7][7] = {\n",
        "        {0, 1, 1, 0, 0, 0, 0},\n",
        "        {1, 0, 1, 1, 0, 0, 0},\n",
        "        {1, 1, 0, 0, 1, 0, 0},\n",
        "        {0, 1, 0, 0, 1, 0, 0},\n",
        "        {0, 0, 1, 1, 0, 1, 0},\n",
        "        {0, 0, 0, 0, 1, 0, 1},\n",
        "        {0, 0, 0, 0, 0, 1, 0}};\n",
        "\n",
        "    int start_node = 3;\n",
        "    q[last++] = start_node;\n",
        "    first++;\n",
        "    visited[start_node] = 1;\n",
        "\n",
        "    bfs(adj_matrix, first, last, q, n_nodes);\n",
        "\n",
        "    return 0;\n",
        "}\n",
        "\"\"\""
      ]
    },
    {
      "cell_type": "code",
      "execution_count": 2,
      "metadata": {
        "id": "uwOtwC4PAGRB"
      },
      "outputs": [],
      "source": [
        "file_ = open(\"bfs.cpp\", \"w\")\n",
        "file_.write(code)\n",
        "file_.close()"
      ]
    },
    {
      "cell_type": "code",
      "execution_count": 3,
      "metadata": {
        "id": "sMvlPR0pAOdb"
      },
      "outputs": [],
      "source": [
        "!g++ -fopenmp bfs.cpp"
      ]
    },
    {
      "cell_type": "code",
      "execution_count": 4,
      "metadata": {
        "colab": {
          "base_uri": "https://localhost:8080/"
        },
        "id": "V4BOmNZeAQUa",
        "outputId": "21f7fa55-635c-4977-cc89-0708c44a3ec1"
      },
      "outputs": [
        {
          "output_type": "stream",
          "name": "stdout",
          "text": [
            "  3  1  4  0  2  5  6"
          ]
        }
      ],
      "source": [
        "!./a.out\n"
      ]
    },
    {
      "cell_type": "code",
      "execution_count": 4,
      "metadata": {
        "id": "tE02DsNHASbs"
      },
      "outputs": [],
      "source": [
        ""
      ]
    }
  ],
  "metadata": {
    "colab": {
      "name": "11_HPC_4_BFS.ipynb",
      "provenance": []
    },
    "kernelspec": {
      "display_name": "Python 3",
      "name": "python3"
    }
  },
  "nbformat": 4,
  "nbformat_minor": 0
}